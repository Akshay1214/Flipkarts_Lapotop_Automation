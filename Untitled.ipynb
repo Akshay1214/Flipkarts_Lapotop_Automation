{
 "cells": [
  {
   "cell_type": "code",
   "execution_count": 6,
   "id": "880aca57",
   "metadata": {},
   "outputs": [],
   "source": [
    "from selenium import webdriver\n",
    "import time"
   ]
  },
  {
   "cell_type": "code",
   "execution_count": 7,
   "id": "18e60e96",
   "metadata": {},
   "outputs": [
    {
     "name": "stdout",
     "output_type": "stream",
     "text": [
      "Enter Your Product:- laptops\n"
     ]
    }
   ],
   "source": [
    "search_item = input(\"Enter Your Product:- \")"
   ]
  },
  {
   "cell_type": "code",
   "execution_count": 8,
   "id": "ea456b41",
   "metadata": {},
   "outputs": [],
   "source": [
    "driver = webdriver.Chrome()\n",
    "driver.get(\"https://www.flipkart.com\")"
   ]
  },
  {
   "cell_type": "code",
   "execution_count": null,
   "id": "5f07ac91",
   "metadata": {},
   "outputs": [],
   "source": [
    "try:\n",
    "    driver.find_element_by_xpath('//button[@class=\"_2KpZ6l _2doB4z\"]').click()\n",
    "except:\n",
    "    pass"
   ]
  },
  {
   "cell_type": "code",
   "execution_count": null,
   "id": "c7626201",
   "metadata": {},
   "outputs": [],
   "source": [
    "driver.find_elements_by_xpath('//input[@name=\"q\"]').send_keys(search_item)\n",
    "driver.find_element_by_xpath(\"//button[@class='L0Z3Pu']\").click()"
   ]
  },
  {
   "cell_type": "code",
   "execution_count": null,
   "id": "49e4af14",
   "metadata": {},
   "outputs": [],
   "source": [
    "time.sleep(3)"
   ]
  },
  {
   "cell_type": "code",
   "execution_count": null,
   "id": "19eb1bbe",
   "metadata": {},
   "outputs": [],
   "source": [
    "pcontainer = driver.find_element_by_xpath('//div[@class=\"_1YokD2 _2GoDe3\"]')\n",
    "container = pcontainer.find_elements _by_xpath('//div[@class=\"_1YokD2 _3Mn1Gg\"]')[1]"
   ]
  },
  {
   "cell_type": "code",
   "execution_count": null,
   "id": "769af7b6",
   "metadata": {},
   "outputs": [],
   "source": [
    "all_products = container.find_elements_by_xpath('//div[@class=\"_13oc-S\"]')"
   ]
  },
  {
   "cell_type": "code",
   "execution_count": null,
   "id": "53b2120c",
   "metadata": {},
   "outputs": [],
   "source": [
    "for product in all_products:\n",
    "    product.click()\n",
    "    driver.switch_to.window(driver.window_handles[1])"
   ]
  },
  {
   "cell_type": "code",
   "execution_count": null,
   "id": "a58e63bd",
   "metadata": {},
   "outputs": [],
   "source": [
    "title = driver.find_element_by_xpath('//span[@class=\"B_NuCI\"]').text\n",
    "price = driver.find_element_by_xpath('//div[@class=\"_30jeq3 _16Jk6d\"]').text"
   ]
  },
  {
   "cell_type": "code",
   "execution_count": null,
   "id": "f52cb080",
   "metadata": {},
   "outputs": [],
   "source": [
    "try:\n",
    "    mrp = driver.find_element_by_xpath('//div[@class=\"_3I9_wc _2p6lqe\"]').text\n",
    "    discount = driver.find_element_by_xpath('//div[@class=\"_3Ay6Sb _31Dcoz\"]').text\n",
    "    seller_name = driver.find_element_by_id(\"sellerName\").text\n",
    "except:\n",
    "    pass"
   ]
  },
  {
   "cell_type": "code",
   "execution_count": null,
   "id": "66624a64",
   "metadata": {},
   "outputs": [],
   "source": [
    "print(f\"Title: - {title}\")\n",
    "print(f\"Price:- {price}\")\n",
    "try:\n",
    "    print(f\"MRP: - {mrp}\")\n",
    "    print(f\"Discount:- {discount}\")\n",
    "    print(f\"SellerName:- {seller_name}\")\n",
    "except:\n",
    "    pass  "
   ]
  },
  {
   "cell_type": "code",
   "execution_count": null,
   "id": "210ac1fe",
   "metadata": {},
   "outputs": [],
   "source": [
    "driver.close()\n",
    "driver.switch_to.window(driver.window_handles[0])"
   ]
  },
  {
   "cell_type": "code",
   "execution_count": null,
   "id": "aedb9878",
   "metadata": {},
   "outputs": [],
   "source": [
    "driver.quit()"
   ]
  },
  {
   "cell_type": "code",
   "execution_count": null,
   "id": "e6d150f3",
   "metadata": {},
   "outputs": [],
   "source": []
  },
  {
   "cell_type": "code",
   "execution_count": 11,
   "id": "a5791986",
   "metadata": {},
   "outputs": [
    {
     "name": "stdout",
     "output_type": "stream",
     "text": [
      "Enter Your Product:- laptop\n"
     ]
    },
    {
     "name": "stderr",
     "output_type": "stream",
     "text": [
      "C:\\Users\\Admin\\AppData\\Local\\Temp\\ipykernel_15428\\1622660044.py:10: DeprecationWarning: find_element_by_xpath is deprecated. Please use find_element(by=By.XPATH, value=xpath) instead\n",
      "  driver.find_element_by_xpath('//button[@class=\"_2KpZ6l _2doB4z\"]').click()\n",
      "C:\\Users\\Admin\\AppData\\Local\\Temp\\ipykernel_15428\\1622660044.py:14: DeprecationWarning: find_elements_by_xpath is deprecated. Please use find_elements(by=By.XPATH, value=xpath) instead\n",
      "  driver.find_elements_by_xpath('//input[@name=\"q\"]').send_keys(search_item)\n"
     ]
    },
    {
     "ename": "AttributeError",
     "evalue": "'list' object has no attribute 'send_keys'",
     "output_type": "error",
     "traceback": [
      "\u001b[1;31m---------------------------------------------------------------------------\u001b[0m",
      "\u001b[1;31mAttributeError\u001b[0m                            Traceback (most recent call last)",
      "Input \u001b[1;32mIn [11]\u001b[0m, in \u001b[0;36m<cell line: 14>\u001b[1;34m()\u001b[0m\n\u001b[0;32m     11\u001b[0m \u001b[38;5;28;01mexcept\u001b[39;00m:\n\u001b[0;32m     12\u001b[0m     \u001b[38;5;28;01mpass\u001b[39;00m\n\u001b[1;32m---> 14\u001b[0m \u001b[43mdriver\u001b[49m\u001b[38;5;241;43m.\u001b[39;49m\u001b[43mfind_elements_by_xpath\u001b[49m\u001b[43m(\u001b[49m\u001b[38;5;124;43m'\u001b[39;49m\u001b[38;5;124;43m//input[@name=\u001b[39;49m\u001b[38;5;124;43m\"\u001b[39;49m\u001b[38;5;124;43mq\u001b[39;49m\u001b[38;5;124;43m\"\u001b[39;49m\u001b[38;5;124;43m]\u001b[39;49m\u001b[38;5;124;43m'\u001b[39;49m\u001b[43m)\u001b[49m\u001b[38;5;241;43m.\u001b[39;49m\u001b[43msend_keys\u001b[49m(search_item)\n\u001b[0;32m     15\u001b[0m driver\u001b[38;5;241m.\u001b[39mfind_element_by_xpath(\u001b[38;5;124m\"\u001b[39m\u001b[38;5;124m//button[@class=\u001b[39m\u001b[38;5;124m'\u001b[39m\u001b[38;5;124mL0Z3Pu\u001b[39m\u001b[38;5;124m'\u001b[39m\u001b[38;5;124m]\u001b[39m\u001b[38;5;124m\"\u001b[39m)\u001b[38;5;241m.\u001b[39mclick()\n\u001b[0;32m     17\u001b[0m time\u001b[38;5;241m.\u001b[39msleep(\u001b[38;5;241m3\u001b[39m)\n",
      "\u001b[1;31mAttributeError\u001b[0m: 'list' object has no attribute 'send_keys'"
     ]
    }
   ],
   "source": [
    "from selenium import webdriver\n",
    "import time\n",
    "\n",
    "search_item = input(\"Enter Your Product:- \")\n",
    "\n",
    "driver = webdriver.Chrome()\n",
    "driver.get(\"https://www.flipkart.com\")\n",
    "\n",
    "try:\n",
    "    driver.find_element_by_xpath('//button[@class=\"_2KpZ6l _2doB4z\"]').click()\n",
    "except:\n",
    "    pass\n",
    "\n",
    "driver.find_elements_by_xpath('//input[@name=\"q\"]').send_keys(search_item)\n",
    "driver.find_element_by_xpath(\"//button[@class='L0Z3Pu']\").click()\n",
    "\n",
    "time.sleep(3)\n",
    "\n",
    "pcontainer = driver.find_element_by_xpath('//div[@class=\"_1YokD2 _2GoDe3\"]')\n",
    "container = pcontainer.find_elements_by_xpath('//div[@class=\"_1YokD2 _3Mn1Gg\"]')[1]\n",
    "\n",
    "all_products = container.find_elements_by_xpath('//div[@class=\"_13oc-S\"]')\n",
    "\n",
    "for product in all_products:\n",
    "    product.click()\n",
    "    driver.switch_to.window(driver.window_handles[1])\n",
    "    \n",
    "title = driver.find_element_by_xpath('//span[@class=\"B_NuCI\"]').text\n",
    "price = driver.find_element_by_xpath('//div[@class=\"_30jeq3 _16Jk6d\"]').text\n",
    "\n",
    "try:\n",
    "    mrp = driver.find_element_by_xpath('//div[@class=\"_3I9_wc _2p6lqe\"]').text\n",
    "    discount = driver.find_element_by_xpath('//div[@class=\"_3Ay6Sb _31Dcoz\"]').text\n",
    "    seller_name = driver.find_element_by_id(\"sellerName\").text\n",
    "except:\n",
    "    pass\n",
    "\n",
    "print(f\"Title: - {title}\")\n",
    "print(f\"Price:- {price}\")\n",
    "try:\n",
    "    print(f\"MRP:- {mrp}\")\n",
    "    print(f\"Discount:- {discount}\")\n",
    "    print(f\"SellerName:- {seller_name}\")\n",
    "except:\n",
    "    pass  \n",
    "\n",
    "driver.close()\n",
    "driver.switch_to.window(driver.window_handles[0])\n",
    "\n",
    "driver.quit()"
   ]
  },
  {
   "cell_type": "code",
   "execution_count": null,
   "id": "d214d360",
   "metadata": {},
   "outputs": [],
   "source": []
  }
 ],
 "metadata": {
  "kernelspec": {
   "display_name": "Python 3 (ipykernel)",
   "language": "python",
   "name": "python3"
  },
  "language_info": {
   "codemirror_mode": {
    "name": "ipython",
    "version": 3
   },
   "file_extension": ".py",
   "mimetype": "text/x-python",
   "name": "python",
   "nbconvert_exporter": "python",
   "pygments_lexer": "ipython3",
   "version": "3.10.4"
  }
 },
 "nbformat": 4,
 "nbformat_minor": 5
}
